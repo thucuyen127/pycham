{
  "nbformat": 4,
  "nbformat_minor": 0,
  "metadata": {
    "colab": {
      "name": "numpy.ipynb",
      "provenance": [],
      "authorship_tag": "ABX9TyOMbpmrf7rlAjNW7Zae6687",
      "include_colab_link": true
    },
    "kernelspec": {
      "name": "python3",
      "display_name": "Python 3"
    }
  },
  "cells": [
    {
      "cell_type": "markdown",
      "metadata": {
        "id": "view-in-github",
        "colab_type": "text"
      },
      "source": [
        "<a href=\"https://colab.research.google.com/github/thucuyen127/pycham/blob/master/numpy.ipynb\" target=\"_parent\"><img src=\"https://colab.research.google.com/assets/colab-badge.svg\" alt=\"Open In Colab\"/></a>"
      ]
    },
    {
      "cell_type": "code",
      "metadata": {
        "id": "QFKn_-mgNZ50",
        "colab": {
          "base_uri": "https://localhost:8080/"
        },
        "outputId": "a8b25b0b-fa4d-4136-88a5-17c2bd8c8342"
      },
      "source": [
        "import numpy as np\r\n",
        "import random\r\n",
        "\r\n",
        "def taomatran(n): #Hàm tạo ma trận n hàng n cột\r\n",
        "  a = np.random.randint(-10,10,(n,n))\r\n",
        "  return a\r\n",
        "m=int(input('m = '))\r\n",
        "a = taomatran(m)\r\n",
        "b = taomatran(m)\r\n",
        "c = taomatran(m)\r\n",
        "print('A = \\n',a)\r\n",
        "print('B = \\n',b)\r\n",
        "print('C = \\n',c)\r\n",
        "print('A + C = \\n',a + c)\r\n",
        "print('A - C = \\n',a - c)\r\n",
        "print('A * B = \\n',a @ b)\r\n",
        "print('A / C = \\n',a  @ np.linalg.matrix_power(c, -1))\r\n",
        "print('A * 5 = \\n',a * 5)\r\n",
        "print('A / 5 = \\n',a / 5)\r\n",
        "print('ma tran chuyen vi cua A:\\n',np.transpose(a))\r\n"
      ],
      "execution_count": 2,
      "outputs": [
        {
          "output_type": "stream",
          "text": [
            "m = 3\n",
            "A = \n",
            " [[-7  2  5]\n",
            " [-3 -6  1]\n",
            " [ 8 -4  6]]\n",
            "B = \n",
            " [[ 1 -9  5]\n",
            " [ 3  7 -2]\n",
            " [ 5  9  8]]\n",
            "C = \n",
            " [[ 7  2 -3]\n",
            " [-9  9  0]\n",
            " [ 7 -4 -8]]\n",
            "A + C = \n",
            " [[  0   4   2]\n",
            " [-12   3   1]\n",
            " [ 15  -8  -2]]\n",
            "A - C = \n",
            " [[-14   0   8]\n",
            " [  6 -15   1]\n",
            " [  1   0  14]]\n",
            "A * B = \n",
            " [[ 24 122   1]\n",
            " [-16  -6   5]\n",
            " [ 26 -46  96]]\n",
            "A / C = \n",
            " [[-0.3968254   0.09876543 -0.47619048]\n",
            " [-1.0952381  -0.2962963   0.28571429]\n",
            " [ 0.79365079 -1.08641975 -1.04761905]]\n",
            "A * 5 = \n",
            " [[-35  10  25]\n",
            " [-15 -30   5]\n",
            " [ 40 -20  30]]\n",
            "A / 5 = \n",
            " [[-1.4  0.4  1. ]\n",
            " [-0.6 -1.2  0.2]\n",
            " [ 1.6 -0.8  1.2]]\n",
            "ma tran chuyen vi cua A:\n",
            " [[-7 -3  8]\n",
            " [ 2 -6 -4]\n",
            " [ 5  1  6]]\n"
          ],
          "name": "stdout"
        }
      ]
    }
  ]
}